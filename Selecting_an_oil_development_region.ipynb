{
 "cells": [
  {
   "cell_type": "markdown",
   "metadata": {},
   "source": [
    "# Выбор региона для разработки новых нефтяных месторождений"
   ]
  },
  {
   "cell_type": "markdown",
   "metadata": {},
   "source": [
    "***Описание проекта:*** "
   ]
  },
  {
   "cell_type": "markdown",
   "metadata": {},
   "source": [
    "Допустим, вы работаете в добывающей компании «ГлавРосГосНефть». Нужно решить, где бурить новую скважину.\n",
    "\n",
    "Вам предоставлены пробы нефти в трёх регионах: в каждом 10 000 месторождений, где измерили качество нефти и объём её запасов. Постройте модель машинного обучения, которая поможет определить регион, где добыча принесёт наибольшую прибыль. Проанализируйте возможную прибыль и риски техникой *Bootstrap.*\n",
    "\n",
    "Шаги для выбора локации:\n",
    "\n",
    "- В избранном регионе ищут месторождения, для каждого определяют значения признаков;\n",
    "- Строят модель и оценивают объём запасов;\n",
    "- Выбирают месторождения с самым высокими оценками значений. Количество месторождений зависит от бюджета компании и стоимости разработки одной скважины;\n",
    "- Прибыль равна суммарной прибыли отобранных месторождений."
   ]
  },
  {
   "cell_type": "markdown",
   "metadata": {},
   "source": [
    "***Описание данных:***"
   ]
  },
  {
   "cell_type": "markdown",
   "metadata": {},
   "source": [
    "- `id`— уникальный идентификатор скважины;\n",
    "- `f0, f1, f2` — три признака точек (неважно, что они означают, но сами признаки значимы);\n",
    "- `product` — объём запасов в скважине (тыс. баррелей)."
   ]
  },
  {
   "cell_type": "markdown",
   "metadata": {},
   "source": [
    "***План работы над проектом:***"
   ]
  },
  {
   "cell_type": "markdown",
   "metadata": {},
   "source": [
    "1. Загрузка и подготовка данных;\n",
    "2. Обучение и проверка модели;\n",
    "3. Подготовка к расчёту прибыли;\n",
    "4. Расчёт прибыли и рисков;\n",
    "5. Общий вывод;"
   ]
  },
  {
   "cell_type": "markdown",
   "metadata": {},
   "source": [
    "## Загрузка и подготовка данных"
   ]
  },
  {
   "cell_type": "code",
   "execution_count": 6,
   "metadata": {},
   "outputs": [],
   "source": [
    "import pandas as pd\n",
    "import numpy as np\n",
    "import seaborn as sns\n",
    "import matplotlib.pyplot as plt\n",
    "\n",
    "from scipy import stats as st\n",
    "from sklearn.linear_model import LinearRegression\n",
    "from sklearn.metrics import mean_squared_error\n",
    "from sklearn.model_selection import train_test_split\n",
    "\n",
    "sns.set(rc={'figure.figsize': (15, 15)})"
   ]
  },
  {
   "cell_type": "markdown",
   "metadata": {},
   "source": [
    "Откроем и посмотрим на каждый набор данных."
   ]
  },
  {
   "cell_type": "code",
   "execution_count": 9,
   "metadata": {},
   "outputs": [],
   "source": [
    "def start(dataset):\n",
    "        dataset.info()\n",
    "        print('\\n',dataset.describe())\n",
    "        display(dataset.sample(5))\n",
    "        print('Количество пропусков в таблице:\\n')\n",
    "        print(dataset.isna().sum(), '\\n')\n",
    "        print('Количество дубликатов в таблице:',  dataset.duplicated().sum())\n",
    "        dataset.hist(figsize=(15, 15));"
   ]
  },
  {
   "cell_type": "code",
   "execution_count": 10,
   "metadata": {
    "scrolled": false
   },
   "outputs": [
    {
     "name": "stdout",
     "output_type": "stream",
     "text": [
      "<class 'pandas.core.frame.DataFrame'>\n",
      "RangeIndex: 100000 entries, 0 to 99999\n",
      "Data columns (total 5 columns):\n",
      " #   Column   Non-Null Count   Dtype  \n",
      "---  ------   --------------   -----  \n",
      " 0   id       100000 non-null  object \n",
      " 1   f0       100000 non-null  float64\n",
      " 2   f1       100000 non-null  float64\n",
      " 3   f2       100000 non-null  float64\n",
      " 4   product  100000 non-null  float64\n",
      "dtypes: float64(4), object(1)\n",
      "memory usage: 3.8+ MB\n",
      "\n",
      "                   f0             f1             f2        product\n",
      "count  100000.000000  100000.000000  100000.000000  100000.000000\n",
      "mean        0.500419       0.250143       2.502647      92.500000\n",
      "std         0.871832       0.504433       3.248248      44.288691\n",
      "min        -1.408605      -0.848218     -12.088328       0.000000\n",
      "25%        -0.072580      -0.200881       0.287748      56.497507\n",
      "50%         0.502360       0.250252       2.515969      91.849972\n",
      "75%         1.073581       0.700646       4.715088     128.564089\n",
      "max         2.362331       1.343769      16.003790     185.364347\n"
     ]
    },
    {
     "data": {
      "text/html": [
       "<div>\n",
       "<style scoped>\n",
       "    .dataframe tbody tr th:only-of-type {\n",
       "        vertical-align: middle;\n",
       "    }\n",
       "\n",
       "    .dataframe tbody tr th {\n",
       "        vertical-align: top;\n",
       "    }\n",
       "\n",
       "    .dataframe thead th {\n",
       "        text-align: right;\n",
       "    }\n",
       "</style>\n",
       "<table border=\"1\" class=\"dataframe\">\n",
       "  <thead>\n",
       "    <tr style=\"text-align: right;\">\n",
       "      <th></th>\n",
       "      <th>id</th>\n",
       "      <th>f0</th>\n",
       "      <th>f1</th>\n",
       "      <th>f2</th>\n",
       "      <th>product</th>\n",
       "    </tr>\n",
       "  </thead>\n",
       "  <tbody>\n",
       "    <tr>\n",
       "      <th>13240</th>\n",
       "      <td>s5aFe</td>\n",
       "      <td>2.242501</td>\n",
       "      <td>0.290043</td>\n",
       "      <td>4.347522</td>\n",
       "      <td>122.507266</td>\n",
       "    </tr>\n",
       "    <tr>\n",
       "      <th>21606</th>\n",
       "      <td>Ubajj</td>\n",
       "      <td>0.222971</td>\n",
       "      <td>0.025354</td>\n",
       "      <td>0.065205</td>\n",
       "      <td>47.989030</td>\n",
       "    </tr>\n",
       "    <tr>\n",
       "      <th>50885</th>\n",
       "      <td>3XZwO</td>\n",
       "      <td>1.765642</td>\n",
       "      <td>0.098948</td>\n",
       "      <td>-3.546474</td>\n",
       "      <td>111.722416</td>\n",
       "    </tr>\n",
       "    <tr>\n",
       "      <th>10967</th>\n",
       "      <td>sX2r6</td>\n",
       "      <td>0.234305</td>\n",
       "      <td>-0.260871</td>\n",
       "      <td>0.619138</td>\n",
       "      <td>97.937841</td>\n",
       "    </tr>\n",
       "    <tr>\n",
       "      <th>16262</th>\n",
       "      <td>BmkRx</td>\n",
       "      <td>0.907090</td>\n",
       "      <td>-0.500607</td>\n",
       "      <td>5.155305</td>\n",
       "      <td>159.818949</td>\n",
       "    </tr>\n",
       "  </tbody>\n",
       "</table>\n",
       "</div>"
      ],
      "text/plain": [
       "          id        f0        f1        f2     product\n",
       "13240  s5aFe  2.242501  0.290043  4.347522  122.507266\n",
       "21606  Ubajj  0.222971  0.025354  0.065205   47.989030\n",
       "50885  3XZwO  1.765642  0.098948 -3.546474  111.722416\n",
       "10967  sX2r6  0.234305 -0.260871  0.619138   97.937841\n",
       "16262  BmkRx  0.907090 -0.500607  5.155305  159.818949"
      ]
     },
     "metadata": {},
     "output_type": "display_data"
    },
    {
     "name": "stdout",
     "output_type": "stream",
     "text": [
      "Количество пропусков в таблице:\n",
      "\n",
      "id         0\n",
      "f0         0\n",
      "f1         0\n",
      "f2         0\n",
      "product    0\n",
      "dtype: int64 \n",
      "\n",
      "Количество дубликатов в таблице: 0\n"
     ]
    },
    {
     "data": {
      "image/png": "[encoded data removed]",
      "text/plain": [
       "<Figure size 1080x1080 with 4 Axes>"
      ]
     },
     "metadata": {},
     "output_type": "display_data"
    }
   ],
   "source": [
    "data_0 = pd.read_csv('geo_data_0.csv')\n",
    "start(data_0)"
   ]
  },
  {
   "cell_type": "code",
   "execution_count": 11,
   "metadata": {
    "scrolled": false
   },
   "outputs": [
    {
     "name": "stdout",
     "output_type": "stream",
     "text": [
      "<class 'pandas.core.frame.DataFrame'>\n",
      "RangeIndex: 100000 entries, 0 to 99999\n",
      "Data columns (total 5 columns):\n",
      " #   Column   Non-Null Count   Dtype  \n",
      "---  ------   --------------   -----  \n",
      " 0   id       100000 non-null  object \n",
      " 1   f0       100000 non-null  float64\n",
      " 2   f1       100000 non-null  float64\n",
      " 3   f2       100000 non-null  float64\n",
      " 4   product  100000 non-null  float64\n",
      "dtypes: float64(4), object(1)\n",
      "memory usage: 3.8+ MB\n",
      "\n",
      "                   f0             f1             f2        product\n",
      "count  100000.000000  100000.000000  100000.000000  100000.000000\n",
      "mean        1.141296      -4.796579       2.494541      68.825000\n",
      "std         8.965932       5.119872       1.703572      45.944423\n",
      "min       -31.609576     -26.358598      -0.018144       0.000000\n",
      "25%        -6.298551      -8.267985       1.000021      26.953261\n",
      "50%         1.153055      -4.813172       2.011479      57.085625\n",
      "75%         8.621015      -1.332816       3.999904     107.813044\n",
      "max        29.421755      18.734063       5.019721     137.945408\n"
     ]
    },
    {
     "data": {
      "text/html": [
       "<div>\n",
       "<style scoped>\n",
       "    .dataframe tbody tr th:only-of-type {\n",
       "        vertical-align: middle;\n",
       "    }\n",
       "\n",
       "    .dataframe tbody tr th {\n",
       "        vertical-align: top;\n",
       "    }\n",
       "\n",
       "    .dataframe thead th {\n",
       "        text-align: right;\n",
       "    }\n",
       "</style>\n",
       "<table border=\"1\" class=\"dataframe\">\n",
       "  <thead>\n",
       "    <tr style=\"text-align: right;\">\n",
       "      <th></th>\n",
       "      <th>id</th>\n",
       "      <th>f0</th>\n",
       "      <th>f1</th>\n",
       "      <th>f2</th>\n",
       "      <th>product</th>\n",
       "    </tr>\n",
       "  </thead>\n",
       "  <tbody>\n",
       "    <tr>\n",
       "      <th>49876</th>\n",
       "      <td>zOuWb</td>\n",
       "      <td>10.621545</td>\n",
       "      <td>-6.078470</td>\n",
       "      <td>2.003424</td>\n",
       "      <td>53.906522</td>\n",
       "    </tr>\n",
       "    <tr>\n",
       "      <th>55846</th>\n",
       "      <td>zrjHM</td>\n",
       "      <td>5.006331</td>\n",
       "      <td>-3.931121</td>\n",
       "      <td>1.990554</td>\n",
       "      <td>53.906522</td>\n",
       "    </tr>\n",
       "    <tr>\n",
       "      <th>11886</th>\n",
       "      <td>6iIAd</td>\n",
       "      <td>7.948137</td>\n",
       "      <td>3.614917</td>\n",
       "      <td>0.996088</td>\n",
       "      <td>26.953261</td>\n",
       "    </tr>\n",
       "    <tr>\n",
       "      <th>11063</th>\n",
       "      <td>gnOWA</td>\n",
       "      <td>14.827936</td>\n",
       "      <td>-7.472643</td>\n",
       "      <td>0.992863</td>\n",
       "      <td>26.953261</td>\n",
       "    </tr>\n",
       "    <tr>\n",
       "      <th>45950</th>\n",
       "      <td>GlITm</td>\n",
       "      <td>-10.780380</td>\n",
       "      <td>-8.633878</td>\n",
       "      <td>2.000123</td>\n",
       "      <td>57.085625</td>\n",
       "    </tr>\n",
       "  </tbody>\n",
       "</table>\n",
       "</div>"
      ],
      "text/plain": [
       "          id         f0        f1        f2    product\n",
       "49876  zOuWb  10.621545 -6.078470  2.003424  53.906522\n",
       "55846  zrjHM   5.006331 -3.931121  1.990554  53.906522\n",
       "11886  6iIAd   7.948137  3.614917  0.996088  26.953261\n",
       "11063  gnOWA  14.827936 -7.472643  0.992863  26.953261\n",
       "45950  GlITm -10.780380 -8.633878  2.000123  57.085625"
      ]
     },
     "metadata": {},
     "output_type": "display_data"
    },
    {
     "name": "stdout",
     "output_type": "stream",
     "text": [
      "Количество пропусков в таблице:\n",
      "\n",
      "id         0\n",
      "f0         0\n",
      "f1         0\n",
      "f2         0\n",
      "product    0\n",
      "dtype: int64 \n",
      "\n",
      "Количество дубликатов в таблице: 0\n"
     ]
    },
    {
     "data": {
      "image/png": "[encoded data removed]",
      "text/plain": [
       "<Figure size 1080x1080 with 4 Axes>"
      ]
     },
     "metadata": {},
     "output_type": "display_data"
    }
   ],
   "source": [
    "data_1 = pd.read_csv('geo_data_1.csv')\n",
    "start(data_1)"
   ]
  },
  {
   "cell_type": "code",
   "execution_count": 12,
   "metadata": {
    "scrolled": false
   },
   "outputs": [
    {
     "name": "stdout",
     "output_type": "stream",
     "text": [
      "<class 'pandas.core.frame.DataFrame'>\n",
      "RangeIndex: 100000 entries, 0 to 99999\n",
      "Data columns (total 5 columns):\n",
      " #   Column   Non-Null Count   Dtype  \n",
      "---  ------   --------------   -----  \n",
      " 0   id       100000 non-null  object \n",
      " 1   f0       100000 non-null  float64\n",
      " 2   f1       100000 non-null  float64\n",
      " 3   f2       100000 non-null  float64\n",
      " 4   product  100000 non-null  float64\n",
      "dtypes: float64(4), object(1)\n",
      "memory usage: 3.8+ MB\n",
      "\n",
      "                   f0             f1             f2        product\n",
      "count  100000.000000  100000.000000  100000.000000  100000.000000\n",
      "mean        0.002023      -0.002081       2.495128      95.000000\n",
      "std         1.732045       1.730417       3.473445      44.749921\n",
      "min        -8.760004      -7.084020     -11.970335       0.000000\n",
      "25%        -1.162288      -1.174820       0.130359      59.450441\n",
      "50%         0.009424      -0.009482       2.484236      94.925613\n",
      "75%         1.158535       1.163678       4.858794     130.595027\n",
      "max         7.238262       7.844801      16.739402     190.029838\n"
     ]
    },
    {
     "data": {
      "text/html": [
       "<div>\n",
       "<style scoped>\n",
       "    .dataframe tbody tr th:only-of-type {\n",
       "        vertical-align: middle;\n",
       "    }\n",
       "\n",
       "    .dataframe tbody tr th {\n",
       "        vertical-align: top;\n",
       "    }\n",
       "\n",
       "    .dataframe thead th {\n",
       "        text-align: right;\n",
       "    }\n",
       "</style>\n",
       "<table border=\"1\" class=\"dataframe\">\n",
       "  <thead>\n",
       "    <tr style=\"text-align: right;\">\n",
       "      <th></th>\n",
       "      <th>id</th>\n",
       "      <th>f0</th>\n",
       "      <th>f1</th>\n",
       "      <th>f2</th>\n",
       "      <th>product</th>\n",
       "    </tr>\n",
       "  </thead>\n",
       "  <tbody>\n",
       "    <tr>\n",
       "      <th>1436</th>\n",
       "      <td>FOhEc</td>\n",
       "      <td>-1.387721</td>\n",
       "      <td>2.206472</td>\n",
       "      <td>2.446250</td>\n",
       "      <td>151.174120</td>\n",
       "    </tr>\n",
       "    <tr>\n",
       "      <th>1301</th>\n",
       "      <td>opSod</td>\n",
       "      <td>-2.360750</td>\n",
       "      <td>0.484229</td>\n",
       "      <td>4.960596</td>\n",
       "      <td>46.940897</td>\n",
       "    </tr>\n",
       "    <tr>\n",
       "      <th>24158</th>\n",
       "      <td>uqOaH</td>\n",
       "      <td>1.163594</td>\n",
       "      <td>1.366075</td>\n",
       "      <td>0.903296</td>\n",
       "      <td>49.200687</td>\n",
       "    </tr>\n",
       "    <tr>\n",
       "      <th>73730</th>\n",
       "      <td>P8Cz8</td>\n",
       "      <td>-1.127728</td>\n",
       "      <td>-2.168892</td>\n",
       "      <td>9.458718</td>\n",
       "      <td>142.767619</td>\n",
       "    </tr>\n",
       "    <tr>\n",
       "      <th>23517</th>\n",
       "      <td>AY5GJ</td>\n",
       "      <td>0.550519</td>\n",
       "      <td>0.257191</td>\n",
       "      <td>3.038962</td>\n",
       "      <td>76.455735</td>\n",
       "    </tr>\n",
       "  </tbody>\n",
       "</table>\n",
       "</div>"
      ],
      "text/plain": [
       "          id        f0        f1        f2     product\n",
       "1436   FOhEc -1.387721  2.206472  2.446250  151.174120\n",
       "1301   opSod -2.360750  0.484229  4.960596   46.940897\n",
       "24158  uqOaH  1.163594  1.366075  0.903296   49.200687\n",
       "73730  P8Cz8 -1.127728 -2.168892  9.458718  142.767619\n",
       "23517  AY5GJ  0.550519  0.257191  3.038962   76.455735"
      ]
     },
     "metadata": {},
     "output_type": "display_data"
    },
    {
     "name": "stdout",
     "output_type": "stream",
     "text": [
      "Количество пропусков в таблице:\n",
      "\n",
      "id         0\n",
      "f0         0\n",
      "f1         0\n",
      "f2         0\n",
      "product    0\n",
      "dtype: int64 \n",
      "\n",
      "Количество дубликатов в таблице: 0\n"
     ]
    },
    {
     "data": {
      "image/png": "[encoded data removed]",
      "text/plain": [
       "<Figure size 1080x1080 with 4 Axes>"
      ]
     },
     "metadata": {},
     "output_type": "display_data"
    }
   ],
   "source": [
    "data_2 = pd.read_csv('geo_data_2.csv')\n",
    "start(data_2)"
   ]
  },
  {
   "cell_type": "markdown",
   "metadata": {},
   "source": [
    "Пропусков, дублей нет. Удалим столбец `id` из таблицы. Оне не нужен нам для обущения модели."
   ]
  },
  {
   "cell_type": "code",
   "execution_count": 6,
   "metadata": {},
   "outputs": [
    {
     "data": {
      "text/plain": [
       "Index(['f0', 'f1', 'f2', 'product'], dtype='object')"
      ]
     },
     "execution_count": 6,
     "metadata": {},
     "output_type": "execute_result"
    }
   ],
   "source": [
    "data_0 = data_0.drop('id', axis=1)\n",
    "data_1 = data_1.drop('id', axis=1)\n",
    "data_2 = data_2.drop('id', axis=1)\n",
    "data_0.columns"
   ]
  },
  {
   "cell_type": "markdown",
   "metadata": {},
   "source": [
    "Сделаем разбивку данных на обущающую(`75%`) и валидационную(`25%`) для каждого региона. (отношение 3 к 1) "
   ]
  },
  {
   "cell_type": "code",
   "execution_count": 7,
   "metadata": {},
   "outputs": [
    {
     "name": "stdout",
     "output_type": "stream",
     "text": [
      "(75000, 3)\n",
      "(25000,)\n"
     ]
    }
   ],
   "source": [
    "def split_data(dataset):\n",
    "    features = dataset.drop('product', axis=1)\n",
    "    target = dataset['product']\n",
    "\n",
    "    features_train, features_valid, target_train, target_valid = train_test_split(\n",
    "        features, target, test_size=0.25, random_state=12345)\n",
    "\n",
    "    return features_train, features_valid, target_train, target_valid\n",
    "\n",
    "features_train_0, features_valid_0, target_train_0, target_valid_0 = split_data(data_0)\n",
    "features_train_1, features_valid_1, target_train_1, target_valid_1 = split_data(data_1)\n",
    "features_train_2, features_valid_2, target_train_2, target_valid_2 = split_data(data_2)\n",
    "\n",
    "print(features_train_1.shape)\n",
    "print(target_valid_1.shape)"
   ]
  },
  {
   "cell_type": "markdown",
   "metadata": {},
   "source": [
    "***Вывод:*** Мы подготовили данные для обучения модели. Что именно мы сделали:\n",
    "- убедились в отсутствии пропусков и дубликатов в данных\n",
    "- удалили столбец `id`, так как он не нужен для обудения модели\n",
    "- сделали разбивку данных на обущающую(75%) и валидационную(25%) для каждого региона. (отношение 3 к 1)."
   ]
  },
  {
   "cell_type": "markdown",
   "metadata": {},
   "source": [
    "## Обучение и проверка модели"
   ]
  },
  {
   "cell_type": "markdown",
   "metadata": {},
   "source": [
    "Для каждого региона обучим модель линейной регрессии на обущающей выборке и высчитаем `RMSE` полученой модели и среднее предсказание."
   ]
  },
  {
   "cell_type": "code",
   "execution_count": 8,
   "metadata": {},
   "outputs": [],
   "source": [
    "def teach_model(features_train, features_valid, target_train, target_valid):\n",
    "    model = LinearRegression()\n",
    "    model.fit(features_train, target_train)\n",
    "    predicted_valid = model.predict(features_valid)\n",
    "    \n",
    "    # создадим сразу таблицы с исходными данными и предсказанными, чтобы использовать bootstrap в дальнейшем\n",
    "    data = {'product' : target_valid,\n",
    "            'predicted_product' : predicted_valid}\n",
    "    data_frame_bootstrap = pd.DataFrame(data, columns = ['product', 'predicted_product'])\n",
    "    \n",
    "    RMSE = (mean_squared_error(target_valid, predicted_valid) ** 0.5).round(2)\n",
    "    \n",
    "    return predicted_valid, RMSE, data_frame_bootstrap"
   ]
  },
  {
   "cell_type": "code",
   "execution_count": 9,
   "metadata": {},
   "outputs": [
    {
     "name": "stdout",
     "output_type": "stream",
     "text": [
      "RMSE у модели обученой на данных первого района: 37.58\n",
      "Среднее от предсказаний модели обученой на данных первого района: 92.59\n"
     ]
    }
   ],
   "source": [
    "# модель первого района\n",
    "predicted_valid_0, RMSE_0, data_frame_bootstrap_0 = teach_model(features_train_0, features_valid_0, target_train_0, target_valid_0)\n",
    "predicted_valid_0_mean = predicted_valid_0.mean().round(2)\n",
    "    \n",
    "print('RMSE у модели обученой на данных первого района:', RMSE_0)\n",
    "print('Среднее от предсказаний модели обученой на данных первого района:', predicted_valid_0_mean)"
   ]
  },
  {
   "cell_type": "code",
   "execution_count": 10,
   "metadata": {},
   "outputs": [
    {
     "name": "stdout",
     "output_type": "stream",
     "text": [
      "RMSE у модели обученой на данных второго района: 0.89\n",
      "Среднее от предсказаний модели обученой на данных первого района: 68.73\n"
     ]
    }
   ],
   "source": [
    "# модель второго района\n",
    "predicted_valid_1, RMSE_1, data_frame_bootstrap_1 = teach_model(features_train_1, features_valid_1, target_train_1, target_valid_1)\n",
    "predicted_valid_1_mean = predicted_valid_1.mean().round(2)\n",
    "\n",
    "print('RMSE у модели обученой на данных второго района:', RMSE_1)\n",
    "print('Среднее от предсказаний модели обученой на данных первого района:', predicted_valid_1_mean)"
   ]
  },
  {
   "cell_type": "code",
   "execution_count": 11,
   "metadata": {},
   "outputs": [
    {
     "name": "stdout",
     "output_type": "stream",
     "text": [
      "RMSE у модели обученой на данных третьего района: 40.03\n",
      "Среднее от предсказаний модели обученой на данных первого района: 94.97\n"
     ]
    }
   ],
   "source": [
    "# модель третьего района\n",
    "predicted_valid_2, RMSE_2, data_frame_bootstrap_2 = teach_model(features_train_2, features_valid_2, target_train_2, target_valid_2)\n",
    "predicted_valid_2_mean = predicted_valid_2.mean().round(2)\n",
    "\n",
    "print('RMSE у модели обученой на данных третьего района:', RMSE_2)\n",
    "print('Среднее от предсказаний модели обученой на данных первого района:', predicted_valid_2_mean)"
   ]
  },
  {
   "cell_type": "markdown",
   "metadata": {},
   "source": [
    "Составим таблицу из полученных данных."
   ]
  },
  {
   "cell_type": "code",
   "execution_count": 12,
   "metadata": {},
   "outputs": [
    {
     "data": {
      "text/html": [
       "<div>\n",
       "<style scoped>\n",
       "    .dataframe tbody tr th:only-of-type {\n",
       "        vertical-align: middle;\n",
       "    }\n",
       "\n",
       "    .dataframe tbody tr th {\n",
       "        vertical-align: top;\n",
       "    }\n",
       "\n",
       "    .dataframe thead th {\n",
       "        text-align: right;\n",
       "    }\n",
       "</style>\n",
       "<table border=\"1\" class=\"dataframe\">\n",
       "  <thead>\n",
       "    <tr style=\"text-align: right;\">\n",
       "      <th></th>\n",
       "      <th>Район 1</th>\n",
       "      <th>Район 2</th>\n",
       "      <th>Район 3</th>\n",
       "    </tr>\n",
       "  </thead>\n",
       "  <tbody>\n",
       "    <tr>\n",
       "      <th>Среднее от предсказаний модели</th>\n",
       "      <td>92.59</td>\n",
       "      <td>68.73</td>\n",
       "      <td>94.97</td>\n",
       "    </tr>\n",
       "    <tr>\n",
       "      <th>RMSE</th>\n",
       "      <td>37.58</td>\n",
       "      <td>0.89</td>\n",
       "      <td>40.03</td>\n",
       "    </tr>\n",
       "  </tbody>\n",
       "</table>\n",
       "</div>"
      ],
      "text/plain": [
       "                                Район 1  Район 2  Район 3\n",
       "Среднее от предсказаний модели    92.59    68.73    94.97\n",
       "RMSE                              37.58     0.89    40.03"
      ]
     },
     "execution_count": 12,
     "metadata": {},
     "output_type": "execute_result"
    }
   ],
   "source": [
    "result = pd.DataFrame(\n",
    "    [(predicted_valid_0_mean, predicted_valid_1_mean, predicted_valid_2_mean), (RMSE_0, RMSE_1, RMSE_2)], \n",
    "    index=['Среднее от предсказаний модели', 'RMSE'], \n",
    "    columns=['Район 1', 'Район 2', 'Район 3']\n",
    ")\n",
    "result"
   ]
  },
  {
   "cell_type": "markdown",
   "metadata": {},
   "source": [
    "***Вывод:*** Для каждого региона обущили модель линейной регрессии на обущающей выборке и высчитали `RMSE` полученой модели и среднее предсказание. Как итог:\n",
    "- первая и третья модель предсказывает средний объём в пределах `93`, в то же время вторая модель выдаёт среднее педсказание `69`\n",
    "- погрешность первой и второй модели в райне `39`, что достаточно много с учётом размера среднего предсказания\n",
    "- у второй модели погрешность меньше `1`. Это отличный результат. Связано это исходными данными районов. В столбще `product` значения очерь спецефично распеределены. Поэтому модель работает значительно лучше. Ниже простою гистограмму по второму(оранжевый цвет) и третьего района(синий цвет) по столбцу `product`."
   ]
  },
  {
   "cell_type": "code",
   "execution_count": 13,
   "metadata": {},
   "outputs": [
    {
     "data": {
      "image/png": "[encoded data removed]",
      "text/plain": [
       "<Figure size 432x288 with 1 Axes>"
      ]
     },
     "metadata": {
      "needs_background": "light"
     },
     "output_type": "display_data"
    }
   ],
   "source": [
    "data_2['product'].plot.hist(bins=10);\n",
    "data_1['product'].plot.hist(bins=10, alpha=0.8);"
   ]
  },
  {
   "cell_type": "markdown",
   "metadata": {},
   "source": [
    "## Подготовка к расчёту прибыли"
   ]
  },
  {
   "cell_type": "code",
   "execution_count": 14,
   "metadata": {},
   "outputs": [
    {
     "name": "stdout",
     "output_type": "stream",
     "text": [
      "92.50000000000001 68.82500000000002 95.00000000000004\n"
     ]
    }
   ],
   "source": [
    "# средний объём нефти в регионах\n",
    "product_0_mean = data_0['product'].mean()\n",
    "product_1_mean = data_1['product'].mean()\n",
    "product_2_mean = data_2['product'].mean()\n",
    "print(product_0_mean, product_1_mean, product_2_mean)"
   ]
  },
  {
   "cell_type": "code",
   "execution_count": 15,
   "metadata": {},
   "outputs": [],
   "source": [
    "# цена за баррель сырья\n",
    "BARREL_PRICE = 450\n",
    "\n",
    "# цена за единицу продукта (из столбца product)\n",
    "PRODUCT_PRICE = 450000\n",
    "\n",
    "# вероятность убытков. Выбирают регион с наибольшей средней прибылью.\n",
    "LOSS_PROBABILITY = 2.5\n",
    "\n",
    "# бюджет на разработку скважин в регионе\n",
    "MONEY = 10_000_000_000\n",
    "\n",
    "# при разведке региона исследуют 500 точек\n",
    "DOTS = 500\n",
    "\n",
    "# из которых с помощью машинного обучения выбирают 200 лучших для разработки\n",
    "BEST_DOTS = 200"
   ]
  },
  {
   "cell_type": "code",
   "execution_count": 16,
   "metadata": {},
   "outputs": [
    {
     "data": {
      "text/plain": [
       "50000000.0"
      ]
     },
     "execution_count": 16,
     "metadata": {},
     "output_type": "execute_result"
    }
   ],
   "source": [
    "# найдём стоимость разработки одной скважины\n",
    "price_make_one_dots = MONEY / BEST_DOTS\n",
    "price_make_one_dots"
   ]
  },
  {
   "cell_type": "code",
   "execution_count": 17,
   "metadata": {},
   "outputs": [
    {
     "data": {
      "text/plain": [
       "111.11111111111111"
      ]
     },
     "execution_count": 17,
     "metadata": {},
     "output_type": "execute_result"
    }
   ],
   "source": [
    "# теперь найдём некую точку безубыточности. Сколько единиц продукта должно быть в скважине для того, чтобы разработка ушло в 0\n",
    "breakeven_point = price_make_one_dots / PRODUCT_PRICE\n",
    "breakeven_point"
   ]
  },
  {
   "cell_type": "markdown",
   "metadata": {},
   "source": [
    "***Вывод:*** При подготовке данных для расчёта прибыли и рисков мы выявили, что для разработки одной скважины, необходимо вложить `50` миллионов рублей, а точка безубыточности будет в том случае, если в текущей скважине будет `не менее 111 единиц` продукта. Если сравнить со средним объёмом нефти по наши `3` регионам, то у каждого их них этот показатель меньше. Ближе всего первый и третий регион с `~93` единиыами продукта."
   ]
  },
  {
   "cell_type": "markdown",
   "metadata": {},
   "source": [
    "## Расчёт прибыли и рисков "
   ]
  },
  {
   "cell_type": "markdown",
   "metadata": {},
   "source": [
    "Напишем функцию, которая рассчитывает прибыль от полученного сырья."
   ]
  },
  {
   "cell_type": "code",
   "execution_count": 18,
   "metadata": {},
   "outputs": [],
   "source": [
    "def profit(predicted):\n",
    "    predicted_sort = sorted(predicted, reverse=True)[:200]\n",
    "    product_profit = sum(predicted_sort) * PRODUCT_PRICE - MONEY\n",
    "    return product_profit"
   ]
  },
  {
   "cell_type": "code",
   "execution_count": 19,
   "metadata": {},
   "outputs": [
    {
     "name": "stdout",
     "output_type": "stream",
     "text": [
      "Потенциальная бОльшая прибыль с 1 участка: 4.0 млрд.\n",
      "Потенциальная бОльшая прибыль с 2 участка: 2.5 млрд.\n",
      "Потенциальная бОльшая прибыль с 3 участка: 3.3 млрд.\n"
     ]
    }
   ],
   "source": [
    "print('Потенциальная бОльшая прибыль с 1 участка:', round(profit(predicted_valid_0) / 10**9, 1), 'млрд.')\n",
    "print('Потенциальная бОльшая прибыль с 2 участка:', round(profit(predicted_valid_1) / 10**9, 1), 'млрд.')\n",
    "print('Потенциальная бОльшая прибыль с 3 участка:', round(profit(predicted_valid_2) / 10**9, 1), 'млрд.')"
   ]
  },
  {
   "cell_type": "markdown",
   "metadata": {},
   "source": [
    "***Вывод:*** Мы написали формулу которая рассчитывает прибыль от полученного сырья. И проверив каждый участок на потенциальную бОльшую прибыль выявили, что самый большой доход из лучших `200` скважин можно получить если разрабатывать первый регион - `14 миллиардов`. Чистая прибыль `4 миллиарда`."
   ]
  },
  {
   "cell_type": "markdown",
   "metadata": {},
   "source": [
    "## Расчёт прибыли и рисков "
   ]
  },
  {
   "cell_type": "code",
   "execution_count": 20,
   "metadata": {},
   "outputs": [],
   "source": [
    "def bootstrap(df):\n",
    " \n",
    "    values = []\n",
    "    #negative_profit_count = 0\n",
    "\n",
    "    state = np.random.RandomState(12345)\n",
    "    for i in range(1000):\n",
    "        df_subsample = df.sample(n=500, replace=True, random_state=state)\n",
    "        df_subsample_200 = df_subsample.sort_values(by='predicted_product', ascending = False).head(200)\n",
    "        values.append((sum(df_subsample_200['product']) * PRODUCT_PRICE) - MONEY)\n",
    "        \n",
    "    values = pd.Series(values)\n",
    "    negative_profit_count = (values < 0).mean() * 100\n",
    "    \n",
    "#     for value in values:\n",
    "#         if value < 0:\n",
    "#             negative_profit_count += 1\n",
    "    \n",
    "    lower = values.quantile(0.025)\n",
    "    upper = values.quantile(0.975)\n",
    "    \n",
    "    return (values, lower, upper, negative_profit_count)"
   ]
  },
  {
   "cell_type": "code",
   "execution_count": 21,
   "metadata": {},
   "outputs": [
    {
     "name": "stdout",
     "output_type": "stream",
     "text": [
      "Ожидаемая средняя прибыль 200 скважин: 0.4 млрд.\n",
      "Нижняя граница 95%-го доверительного интервала: -0.11 млрд.\n",
      "Верхняя граница 95%-го доверительного интервала: 0.91 млрд.\n",
      "Риск потерь: 6.9 %\n"
     ]
    }
   ],
   "source": [
    "# Рассчёт первого участка\n",
    "values, lower, upper, negative_profit_count = bootstrap(data_frame_bootstrap_0)\n",
    " \n",
    "print('Ожидаемая средняя прибыль 200 скважин:',round(values.mean()/ 10**9, 2),'млрд.')\n",
    "print('Нижняя граница 95%-го доверительного интервала:', round(lower/ 10**9, 2), 'млрд.')\n",
    "print('Верхняя граница 95%-го доверительного интервала:', round(upper/ 10**9, 2), 'млрд.')\n",
    "print('Риск потерь:', negative_profit_count, '%')"
   ]
  },
  {
   "cell_type": "code",
   "execution_count": 22,
   "metadata": {},
   "outputs": [
    {
     "name": "stdout",
     "output_type": "stream",
     "text": [
      "Ожидаемая средняя прибыль 200 скважин: 0.46 млрд.\n",
      "Нижняя граница 95%-го доверительного интервала: 0.03 млрд.\n",
      "Верхняя граница 95%-го доверительного интервала: 0.85 млрд.\n",
      "Риск потерь: 1.5 %\n"
     ]
    }
   ],
   "source": [
    "# Рассчёт второго участка\n",
    "values, lower, upper, negative_profit_count = bootstrap(data_frame_bootstrap_1)\n",
    " \n",
    "print('Ожидаемая средняя прибыль 200 скважин:',round(values.mean()/ 10**9, 2),'млрд.')\n",
    "print('Нижняя граница 95%-го доверительного интервала:', round(lower/ 10**9, 2), 'млрд.')\n",
    "print('Верхняя граница 95%-го доверительного интервала:', round(upper/ 10**9, 2), 'млрд.')\n",
    "print('Риск потерь:', negative_profit_count, '%')"
   ]
  },
  {
   "cell_type": "code",
   "execution_count": 23,
   "metadata": {},
   "outputs": [
    {
     "name": "stdout",
     "output_type": "stream",
     "text": [
      "Ожидаемая средняя прибыль 200 скважин: 0.4 млрд.\n",
      "Нижняя граница 95%-го доверительного интервала: -0.16 млрд.\n",
      "Верхняя граница 95%-го доверительного интервала: 0.95 млрд.\n",
      "Риск потерь: 7.6 %\n"
     ]
    }
   ],
   "source": [
    "# Рассчёт третьего участка\n",
    "values, lower, upper, negative_profit_count = bootstrap(data_frame_bootstrap_2)\n",
    " \n",
    "print('Ожидаемая средняя прибыль 200 скважин:',round(values.mean()/ 10**9, 2),'млрд.')\n",
    "print('Нижняя граница 95%-го доверительного интервала:', round(lower/ 10**9, 2), 'млрд.')\n",
    "print('Верхняя граница 95%-го доверительного интервала:', round(upper/ 10**9, 2), 'млрд.')\n",
    "print('Риск потерь:', negative_profit_count, '%')"
   ]
  },
  {
   "cell_type": "markdown",
   "metadata": {},
   "source": [
    "***Вывод:*** Мы проверили наши регионы на ожидаемую среднюю прибыль из `200` скважин, которые выбирали из `500` случайных скважин региона. И так `1000` раз. Самая большая прибыль у второго региона - `0.46 миллиарда`. И у него же самый низкий показатель риска - `1.5%`. Относительно конкурентных регионов у которых этот же показатель значительно больше `2.5%`, он самый подходящий для разработки. "
   ]
  },
  {
   "cell_type": "markdown",
   "metadata": {},
   "source": [
    "## Итоговый вывод"
   ]
  },
  {
   "cell_type": "markdown",
   "metadata": {},
   "source": [
    "Целью нашего исследования было - решить, где бурить новую скважину. Для начала мы подготовили данные для обучения модели. Что именно мы сделали:\n",
    "- убедились в отсутствии пропусков и дубликатов в данных\n",
    "- удалили столбец `id`, так как он не нужен для обудения модели\n",
    "- сделали разбивку данных на обущающую(`75%`) и валидационную(`25%`) для каждого региона. (отношение 3 к 1).\n",
    "\n",
    "Для каждого региона мы обучили модель линейной регрессии на обучающей выборке и высчитали `RMSE` полученых моделей и среднее предсказание. Как итог:\n",
    "- первая и третья модель предсказывает средний объём в пределах `93`, в то же время вторая модель выдаёт среднее педсказание `69`\n",
    "- погрешность первой и второй модели в райне `39`, что достаточно много с учётом размера среднего предсказания\n",
    "- у второй модели погрешность меньше `1`. Это отличный результат. Связано это исходными данными районов. В столбще `product` значения очерь спецефично распеределены. Поэтому модель работает значительно лучше. Ниже простою гистограмму по второму(оранжевый цвет) и третьего района(синий цвет) по столбцу `product`."
   ]
  },
  {
   "cell_type": "code",
   "execution_count": 24,
   "metadata": {},
   "outputs": [
    {
     "data": {
      "image/png": "[encoded data removed]",
      "text/plain": [
       "<Figure size 432x288 with 1 Axes>"
      ]
     },
     "metadata": {
      "needs_background": "light"
     },
     "output_type": "display_data"
    }
   ],
   "source": [
    "data_2['product'].plot.hist(bins=10);\n",
    "data_1['product'].plot.hist(bins=10, alpha=0.8);"
   ]
  },
  {
   "cell_type": "markdown",
   "metadata": {},
   "source": [
    "При подготовке данных для расчёта прибыли и рисков мы выявили, что для разработки одной скважины, необходимо вложить `50` миллионов рублей, а точка безубыточности будет в том случае, если в текущей скважине будет `не менее 111 единиц` продукта. Если сравнить со средним объёмом нефти по наши `3` регионам, то у каждого их них этот показатель меньше. Ближе всего первый и третий регион с `~93` единиыами продукта.\n"
   ]
  },
  {
   "cell_type": "markdown",
   "metadata": {},
   "source": [
    "Затем мы написали формулу которая рассчитывает прибыль от полученного сырья. И проверив каждый участок на потенциальную бОльшую прибыль выявили, что самый большой доход из лучших `200` скважин можно получить если разрабатывать первый регион - `14 миллиардов`. Чистая прибыль `4 миллиарда`."
   ]
  },
  {
   "cell_type": "markdown",
   "metadata": {},
   "source": [
    "Ну и в конце исследования мы проверили наши регионы на ожидаемую среднюю прибыль из `200` скважин, которые выбирали из `500` случайных скважин региона. И так `1000` раз. Самая большая прибыль у второго региона `0.46 миллиарда`. И у него же самый низкий показатель риска - `1.5%`. Относительно конкурентных регионов у которых этот же показатель *значительно* больше `2.5%`, он самый подходящий для разработки. Можно его рекомендовать."
   ]
  }
 ],
 "metadata": {
  "ExecuteTimeLog": [
   {
    "duration": 6568,
    "start_time": "2023-01-18T04:49:37.888Z"
   },
   {
    "duration": 1334,
    "start_time": "2023-01-18T04:49:45.183Z"
   },
   {
    "duration": 1161,
    "start_time": "2023-01-18T04:49:47.615Z"
   },
   {
    "duration": 3,
    "start_time": "2023-01-18T04:52:04.935Z"
   },
   {
    "duration": 1218,
    "start_time": "2023-01-18T04:53:46.071Z"
   },
   {
    "duration": 1342,
    "start_time": "2023-01-18T04:55:32.671Z"
   },
   {
    "duration": 150,
    "start_time": "2023-01-18T04:57:46.840Z"
   },
   {
    "duration": 150,
    "start_time": "2023-01-18T04:57:54.735Z"
   },
   {
    "duration": 698,
    "start_time": "2023-01-18T04:58:11.815Z"
   },
   {
    "duration": 693,
    "start_time": "2023-01-18T04:58:47.863Z"
   },
   {
    "duration": 721,
    "start_time": "2023-01-18T04:59:17.821Z"
   },
   {
    "duration": 32,
    "start_time": "2023-01-18T05:00:26.606Z"
   },
   {
    "duration": 859,
    "start_time": "2023-01-18T05:01:58.639Z"
   },
   {
    "duration": 10,
    "start_time": "2023-01-18T05:21:11.220Z"
   },
   {
    "duration": 9,
    "start_time": "2023-01-18T05:21:52.334Z"
   },
   {
    "duration": 12,
    "start_time": "2023-01-18T05:25:23.173Z"
   },
   {
    "duration": 26,
    "start_time": "2023-01-18T05:25:28.975Z"
   },
   {
    "duration": 4,
    "start_time": "2023-01-18T05:27:26.302Z"
   },
   {
    "duration": 4,
    "start_time": "2023-01-18T05:27:39.702Z"
   },
   {
    "duration": 3,
    "start_time": "2023-01-18T05:34:11.517Z"
   },
   {
    "duration": 48,
    "start_time": "2023-01-18T05:34:27.806Z"
   },
   {
    "duration": 5,
    "start_time": "2023-01-18T05:34:50.598Z"
   },
   {
    "duration": 697,
    "start_time": "2023-01-18T05:34:57.310Z"
   },
   {
    "duration": 762,
    "start_time": "2023-01-18T05:36:21.560Z"
   },
   {
    "duration": 713,
    "start_time": "2023-01-18T05:36:56.735Z"
   },
   {
    "duration": 19,
    "start_time": "2023-01-18T05:37:26.142Z"
   },
   {
    "duration": 16,
    "start_time": "2023-01-18T05:37:39.727Z"
   },
   {
    "duration": 4,
    "start_time": "2023-01-18T05:40:16.830Z"
   },
   {
    "duration": 11,
    "start_time": "2023-01-18T05:40:22.935Z"
   },
   {
    "duration": 140,
    "start_time": "2023-01-18T05:43:20.039Z"
   },
   {
    "duration": 5,
    "start_time": "2023-01-18T05:43:36.142Z"
   },
   {
    "duration": 626,
    "start_time": "2023-01-18T05:43:38.190Z"
   },
   {
    "duration": 1120,
    "start_time": "2023-01-18T05:45:41.362Z"
   },
   {
    "duration": 5,
    "start_time": "2023-01-18T05:45:42.484Z"
   },
   {
    "duration": 797,
    "start_time": "2023-01-18T05:45:42.490Z"
   },
   {
    "duration": 769,
    "start_time": "2023-01-18T05:45:43.290Z"
   },
   {
    "duration": 835,
    "start_time": "2023-01-18T05:45:44.061Z"
   },
   {
    "duration": 117,
    "start_time": "2023-01-18T05:45:44.898Z"
   },
   {
    "duration": 0,
    "start_time": "2023-01-18T05:45:45.017Z"
   },
   {
    "duration": 0,
    "start_time": "2023-01-18T05:45:45.019Z"
   },
   {
    "duration": 0,
    "start_time": "2023-01-18T05:45:45.020Z"
   },
   {
    "duration": 3,
    "start_time": "2023-01-18T05:46:51.794Z"
   },
   {
    "duration": 717,
    "start_time": "2023-01-18T05:47:37.698Z"
   },
   {
    "duration": 1140,
    "start_time": "2023-01-18T05:48:12.469Z"
   },
   {
    "duration": 4,
    "start_time": "2023-01-18T05:48:13.612Z"
   },
   {
    "duration": 792,
    "start_time": "2023-01-18T05:48:13.618Z"
   },
   {
    "duration": 736,
    "start_time": "2023-01-18T05:48:14.412Z"
   },
   {
    "duration": 824,
    "start_time": "2023-01-18T05:48:15.150Z"
   },
   {
    "duration": 12,
    "start_time": "2023-01-18T05:48:15.976Z"
   },
   {
    "duration": 827,
    "start_time": "2023-01-18T05:48:15.990Z"
   },
   {
    "duration": 11,
    "start_time": "2023-01-18T05:48:16.818Z"
   },
   {
    "duration": 50,
    "start_time": "2023-01-18T05:48:16.831Z"
   },
   {
    "duration": 3,
    "start_time": "2023-01-18T06:08:27.421Z"
   },
   {
    "duration": 83,
    "start_time": "2023-01-18T06:08:57.783Z"
   },
   {
    "duration": 40,
    "start_time": "2023-01-18T06:22:26.127Z"
   },
   {
    "duration": 38,
    "start_time": "2023-01-18T06:22:35.647Z"
   },
   {
    "duration": 21,
    "start_time": "2023-01-18T06:22:51.537Z"
   },
   {
    "duration": 35,
    "start_time": "2023-01-18T06:23:14.623Z"
   },
   {
    "duration": 52,
    "start_time": "2023-01-18T06:27:25.888Z"
   },
   {
    "duration": 56,
    "start_time": "2023-01-18T06:27:34.255Z"
   },
   {
    "duration": 4,
    "start_time": "2023-01-18T06:28:09.344Z"
   },
   {
    "duration": 3,
    "start_time": "2023-01-18T06:28:10.448Z"
   },
   {
    "duration": 774,
    "start_time": "2023-01-18T06:28:10.832Z"
   },
   {
    "duration": 705,
    "start_time": "2023-01-18T06:28:11.608Z"
   },
   {
    "duration": 827,
    "start_time": "2023-01-18T06:28:12.314Z"
   },
   {
    "duration": 14,
    "start_time": "2023-01-18T06:28:19.255Z"
   },
   {
    "duration": 39,
    "start_time": "2023-01-18T06:28:23.151Z"
   },
   {
    "duration": 35,
    "start_time": "2023-01-18T08:46:46.633Z"
   },
   {
    "duration": 22,
    "start_time": "2023-01-18T08:47:43.712Z"
   },
   {
    "duration": 29,
    "start_time": "2023-01-18T08:48:36.709Z"
   },
   {
    "duration": 52,
    "start_time": "2023-01-18T08:48:45.793Z"
   },
   {
    "duration": 45,
    "start_time": "2023-01-18T08:48:48.927Z"
   },
   {
    "duration": 48,
    "start_time": "2023-01-18T08:53:31.719Z"
   },
   {
    "duration": 9,
    "start_time": "2023-01-18T08:55:20.620Z"
   },
   {
    "duration": 8,
    "start_time": "2023-01-18T08:55:32.734Z"
   },
   {
    "duration": 60,
    "start_time": "2023-01-18T08:59:10.790Z"
   },
   {
    "duration": 17,
    "start_time": "2023-01-18T08:59:22.031Z"
   },
   {
    "duration": 18,
    "start_time": "2023-01-18T09:00:12.876Z"
   },
   {
    "duration": 30,
    "start_time": "2023-01-18T09:00:38.446Z"
   },
   {
    "duration": 19,
    "start_time": "2023-01-18T09:00:39.718Z"
   },
   {
    "duration": 18,
    "start_time": "2023-01-18T09:01:47.231Z"
   },
   {
    "duration": 22,
    "start_time": "2023-01-18T09:02:04.408Z"
   },
   {
    "duration": 23,
    "start_time": "2023-01-18T09:02:08.829Z"
   },
   {
    "duration": 109,
    "start_time": "2023-01-18T09:04:11.933Z"
   },
   {
    "duration": 14,
    "start_time": "2023-01-18T09:04:26.222Z"
   },
   {
    "duration": 14,
    "start_time": "2023-01-18T09:04:55.878Z"
   },
   {
    "duration": 9,
    "start_time": "2023-01-18T09:05:46.838Z"
   },
   {
    "duration": 12,
    "start_time": "2023-01-18T09:06:26.183Z"
   },
   {
    "duration": 61,
    "start_time": "2023-01-18T09:06:44.163Z"
   },
   {
    "duration": 11,
    "start_time": "2023-01-18T09:06:53.934Z"
   },
   {
    "duration": 32,
    "start_time": "2023-01-18T09:08:36.647Z"
   },
   {
    "duration": 19,
    "start_time": "2023-01-18T09:09:01.366Z"
   },
   {
    "duration": 18,
    "start_time": "2023-01-18T09:09:27.246Z"
   },
   {
    "duration": 9,
    "start_time": "2023-01-18T09:09:36.613Z"
   },
   {
    "duration": 14,
    "start_time": "2023-01-18T09:09:42.077Z"
   },
   {
    "duration": 10,
    "start_time": "2023-01-18T09:09:58.221Z"
   },
   {
    "duration": 11,
    "start_time": "2023-01-18T09:10:22.761Z"
   },
   {
    "duration": 220,
    "start_time": "2023-01-18T09:21:08.247Z"
   },
   {
    "duration": 154,
    "start_time": "2023-01-18T09:21:18.030Z"
   },
   {
    "duration": 174,
    "start_time": "2023-01-18T09:21:28.093Z"
   },
   {
    "duration": 186,
    "start_time": "2023-01-18T09:21:33.149Z"
   },
   {
    "duration": 194,
    "start_time": "2023-01-18T09:22:49.933Z"
   },
   {
    "duration": 167,
    "start_time": "2023-01-18T09:24:34.406Z"
   },
   {
    "duration": 265,
    "start_time": "2023-01-18T09:24:43.305Z"
   },
   {
    "duration": 127,
    "start_time": "2023-01-18T09:25:25.804Z"
   },
   {
    "duration": 555,
    "start_time": "2023-01-18T09:25:44.783Z"
   },
   {
    "duration": 10,
    "start_time": "2023-01-18T09:25:54.976Z"
   },
   {
    "duration": 0,
    "start_time": "2023-01-18T09:28:03.603Z"
   },
   {
    "duration": 173,
    "start_time": "2023-01-18T09:28:09.910Z"
   },
   {
    "duration": 155,
    "start_time": "2023-01-18T09:28:18.304Z"
   },
   {
    "duration": 273,
    "start_time": "2023-01-18T09:28:22.820Z"
   },
   {
    "duration": 740,
    "start_time": "2023-01-18T09:28:56.990Z"
   },
   {
    "duration": 236,
    "start_time": "2023-01-18T09:29:04.036Z"
   },
   {
    "duration": 164,
    "start_time": "2023-01-18T09:29:08.212Z"
   },
   {
    "duration": 176,
    "start_time": "2023-01-18T09:29:17.306Z"
   },
   {
    "duration": 174,
    "start_time": "2023-01-18T09:29:27.818Z"
   },
   {
    "duration": 189,
    "start_time": "2023-01-18T09:29:32.725Z"
   },
   {
    "duration": 171,
    "start_time": "2023-01-18T09:29:39.221Z"
   },
   {
    "duration": 4,
    "start_time": "2023-01-18T09:30:15.911Z"
   },
   {
    "duration": 10,
    "start_time": "2023-01-18T09:30:19.333Z"
   },
   {
    "duration": 193,
    "start_time": "2023-01-18T09:30:53.589Z"
   },
   {
    "duration": 181,
    "start_time": "2023-01-18T09:31:03.349Z"
   },
   {
    "duration": 4,
    "start_time": "2023-01-18T09:39:27.445Z"
   },
   {
    "duration": 4,
    "start_time": "2023-01-18T09:39:31.845Z"
   },
   {
    "duration": 5,
    "start_time": "2023-01-18T09:40:14.293Z"
   },
   {
    "duration": 5,
    "start_time": "2023-01-18T09:40:41.110Z"
   },
   {
    "duration": 6,
    "start_time": "2023-01-18T09:40:51.102Z"
   },
   {
    "duration": 46,
    "start_time": "2023-01-18T09:43:07.678Z"
   },
   {
    "duration": 3,
    "start_time": "2023-01-18T09:46:05.763Z"
   },
   {
    "duration": 10,
    "start_time": "2023-01-18T09:54:33.770Z"
   },
   {
    "duration": 8,
    "start_time": "2023-01-18T09:54:50.725Z"
   },
   {
    "duration": 3,
    "start_time": "2023-01-18T09:54:56.501Z"
   },
   {
    "duration": 4,
    "start_time": "2023-01-18T09:54:58.181Z"
   },
   {
    "duration": 5,
    "start_time": "2023-01-18T09:57:44.941Z"
   },
   {
    "duration": 4,
    "start_time": "2023-01-18T09:59:29.461Z"
   },
   {
    "duration": 4,
    "start_time": "2023-01-18T10:13:29.595Z"
   },
   {
    "duration": 4,
    "start_time": "2023-01-18T10:17:17.235Z"
   },
   {
    "duration": 3,
    "start_time": "2023-01-18T10:18:39.368Z"
   },
   {
    "duration": 4,
    "start_time": "2023-01-18T10:25:03.476Z"
   },
   {
    "duration": 5,
    "start_time": "2023-01-18T10:26:48.434Z"
   },
   {
    "duration": 5,
    "start_time": "2023-01-18T13:29:38.956Z"
   },
   {
    "duration": 5,
    "start_time": "2023-01-18T13:30:04.814Z"
   },
   {
    "duration": 6,
    "start_time": "2023-01-18T13:30:10.663Z"
   },
   {
    "duration": 9,
    "start_time": "2023-01-18T13:30:30.334Z"
   },
   {
    "duration": 14,
    "start_time": "2023-01-18T13:30:56.827Z"
   },
   {
    "duration": 9,
    "start_time": "2023-01-18T13:31:35.712Z"
   },
   {
    "duration": 9,
    "start_time": "2023-01-18T13:31:48.320Z"
   },
   {
    "duration": 9,
    "start_time": "2023-01-18T13:32:00.367Z"
   },
   {
    "duration": 9,
    "start_time": "2023-01-18T13:32:06.662Z"
   },
   {
    "duration": 8,
    "start_time": "2023-01-18T13:32:14.073Z"
   },
   {
    "duration": 8,
    "start_time": "2023-01-18T13:32:36.259Z"
   },
   {
    "duration": 8,
    "start_time": "2023-01-18T13:32:48.510Z"
   },
   {
    "duration": 4,
    "start_time": "2023-01-18T13:33:07.319Z"
   },
   {
    "duration": 9,
    "start_time": "2023-01-18T13:33:48.526Z"
   },
   {
    "duration": 6,
    "start_time": "2023-01-18T13:34:33.494Z"
   },
   {
    "duration": 10,
    "start_time": "2023-01-18T13:35:53.231Z"
   },
   {
    "duration": 4,
    "start_time": "2023-01-18T13:35:57.143Z"
   },
   {
    "duration": 18,
    "start_time": "2023-01-18T13:36:30.381Z"
   },
   {
    "duration": 12,
    "start_time": "2023-01-18T13:37:15.471Z"
   },
   {
    "duration": 5,
    "start_time": "2023-01-18T13:37:38.294Z"
   },
   {
    "duration": 7,
    "start_time": "2023-01-18T13:37:41.438Z"
   },
   {
    "duration": 12,
    "start_time": "2023-01-18T13:37:55.510Z"
   },
   {
    "duration": 11,
    "start_time": "2023-01-18T13:38:24.991Z"
   },
   {
    "duration": 15,
    "start_time": "2023-01-18T13:38:46.574Z"
   },
   {
    "duration": 11,
    "start_time": "2023-01-18T13:39:39.936Z"
   },
   {
    "duration": 11,
    "start_time": "2023-01-18T13:41:17.990Z"
   },
   {
    "duration": 10,
    "start_time": "2023-01-18T13:41:28.838Z"
   },
   {
    "duration": 11,
    "start_time": "2023-01-18T13:41:40.435Z"
   },
   {
    "duration": 8,
    "start_time": "2023-01-18T13:41:52.126Z"
   },
   {
    "duration": 6,
    "start_time": "2023-01-18T13:42:31.927Z"
   },
   {
    "duration": 8,
    "start_time": "2023-01-18T13:42:44.903Z"
   },
   {
    "duration": 12,
    "start_time": "2023-01-18T13:46:45.165Z"
   },
   {
    "duration": 12,
    "start_time": "2023-01-18T13:47:10.565Z"
   },
   {
    "duration": 6,
    "start_time": "2023-01-18T13:47:15.822Z"
   },
   {
    "duration": 6,
    "start_time": "2023-01-18T13:48:11.558Z"
   },
   {
    "duration": 5,
    "start_time": "2023-01-18T13:48:36.142Z"
   },
   {
    "duration": 6,
    "start_time": "2023-01-18T13:48:39.564Z"
   },
   {
    "duration": 8,
    "start_time": "2023-01-18T13:54:38.495Z"
   },
   {
    "duration": 4,
    "start_time": "2023-01-18T13:54:43.325Z"
   },
   {
    "duration": 6,
    "start_time": "2023-01-18T13:54:45.390Z"
   },
   {
    "duration": 17,
    "start_time": "2023-01-18T13:54:52.030Z"
   },
   {
    "duration": 9,
    "start_time": "2023-01-18T13:54:57.082Z"
   },
   {
    "duration": 16,
    "start_time": "2023-01-18T13:55:00.576Z"
   },
   {
    "duration": 6,
    "start_time": "2023-01-18T13:56:10.580Z"
   },
   {
    "duration": 27,
    "start_time": "2023-01-18T13:56:40.046Z"
   },
   {
    "duration": 3,
    "start_time": "2023-01-18T14:07:20.311Z"
   },
   {
    "duration": 28,
    "start_time": "2023-01-18T14:09:47.580Z"
   },
   {
    "duration": 13,
    "start_time": "2023-01-19T05:59:02.792Z"
   },
   {
    "duration": 4,
    "start_time": "2023-01-19T05:59:08.951Z"
   },
   {
    "duration": 14,
    "start_time": "2023-01-19T05:59:14.456Z"
   },
   {
    "duration": 8,
    "start_time": "2023-01-19T06:00:09.209Z"
   },
   {
    "duration": 11,
    "start_time": "2023-01-19T06:02:21.214Z"
   },
   {
    "duration": 9,
    "start_time": "2023-01-19T06:02:26.729Z"
   },
   {
    "duration": 13,
    "start_time": "2023-01-19T06:06:32.405Z"
   },
   {
    "duration": 8,
    "start_time": "2023-01-19T06:06:42.893Z"
   },
   {
    "duration": 10,
    "start_time": "2023-01-19T06:08:07.501Z"
   },
   {
    "duration": 66,
    "start_time": "2023-01-19T06:08:23.996Z"
   },
   {
    "duration": 9,
    "start_time": "2023-01-19T06:08:32.590Z"
   },
   {
    "duration": 9,
    "start_time": "2023-01-19T06:08:57.624Z"
   },
   {
    "duration": 8,
    "start_time": "2023-01-19T06:09:12.989Z"
   },
   {
    "duration": 33,
    "start_time": "2023-01-19T06:10:54.903Z"
   },
   {
    "duration": 28,
    "start_time": "2023-01-19T06:11:10.003Z"
   },
   {
    "duration": 9,
    "start_time": "2023-01-19T06:14:53.322Z"
   },
   {
    "duration": 9,
    "start_time": "2023-01-19T06:14:59.092Z"
   },
   {
    "duration": 8,
    "start_time": "2023-01-19T06:17:50.914Z"
   },
   {
    "duration": 11,
    "start_time": "2023-01-19T06:20:29.025Z"
   },
   {
    "duration": 9,
    "start_time": "2023-01-19T06:21:06.010Z"
   },
   {
    "duration": 8,
    "start_time": "2023-01-19T06:21:17.953Z"
   },
   {
    "duration": 13,
    "start_time": "2023-01-19T06:22:40.130Z"
   },
   {
    "duration": 13,
    "start_time": "2023-01-19T06:23:33.861Z"
   },
   {
    "duration": 21,
    "start_time": "2023-01-19T06:26:35.201Z"
   },
   {
    "duration": 1184,
    "start_time": "2023-01-19T07:34:07.566Z"
   },
   {
    "duration": 3,
    "start_time": "2023-01-19T07:34:08.752Z"
   },
   {
    "duration": 814,
    "start_time": "2023-01-19T07:34:08.757Z"
   },
   {
    "duration": 728,
    "start_time": "2023-01-19T07:34:09.572Z"
   },
   {
    "duration": 891,
    "start_time": "2023-01-19T07:34:10.302Z"
   },
   {
    "duration": 18,
    "start_time": "2023-01-19T07:34:11.194Z"
   },
   {
    "duration": 42,
    "start_time": "2023-01-19T07:34:11.214Z"
   },
   {
    "duration": 4,
    "start_time": "2023-01-19T07:34:11.258Z"
   },
   {
    "duration": 35,
    "start_time": "2023-01-19T07:34:11.267Z"
   },
   {
    "duration": 168,
    "start_time": "2023-01-19T07:34:11.306Z"
   },
   {
    "duration": 197,
    "start_time": "2023-01-19T07:34:11.477Z"
   },
   {
    "duration": 202,
    "start_time": "2023-01-19T07:34:11.680Z"
   },
   {
    "duration": 201,
    "start_time": "2023-01-19T07:34:11.883Z"
   },
   {
    "duration": 5,
    "start_time": "2023-01-19T07:34:12.086Z"
   },
   {
    "duration": 13,
    "start_time": "2023-01-19T07:34:12.093Z"
   },
   {
    "duration": 12,
    "start_time": "2023-01-19T07:34:12.108Z"
   },
   {
    "duration": 19,
    "start_time": "2023-01-19T07:34:12.122Z"
   },
   {
    "duration": 27,
    "start_time": "2023-01-19T07:34:12.142Z"
   },
   {
    "duration": 47,
    "start_time": "2023-01-19T07:34:12.171Z"
   },
   {
    "duration": 17,
    "start_time": "2023-01-19T07:34:12.220Z"
   },
   {
    "duration": 36,
    "start_time": "2023-01-19T07:34:12.239Z"
   },
   {
    "duration": 10,
    "start_time": "2023-01-19T07:34:12.277Z"
   },
   {
    "duration": 4,
    "start_time": "2023-01-19T07:50:08.145Z"
   },
   {
    "duration": 100,
    "start_time": "2023-01-19T07:50:15.592Z"
   },
   {
    "duration": 14,
    "start_time": "2023-01-19T07:50:40.760Z"
   },
   {
    "duration": 4,
    "start_time": "2023-01-19T07:51:02.680Z"
   },
   {
    "duration": 241,
    "start_time": "2023-01-19T07:51:03.816Z"
   },
   {
    "duration": 220,
    "start_time": "2023-01-19T07:51:28.862Z"
   },
   {
    "duration": 202,
    "start_time": "2023-01-19T07:51:35.793Z"
   },
   {
    "duration": 230,
    "start_time": "2023-01-19T07:51:48.059Z"
   },
   {
    "duration": 191,
    "start_time": "2023-01-19T07:51:51.393Z"
   },
   {
    "duration": 175,
    "start_time": "2023-01-19T07:52:00.801Z"
   },
   {
    "duration": 5,
    "start_time": "2023-01-19T07:52:59.713Z"
   },
   {
    "duration": 200,
    "start_time": "2023-01-19T07:53:01.609Z"
   },
   {
    "duration": 226,
    "start_time": "2023-01-19T07:53:19.064Z"
   },
   {
    "duration": 252,
    "start_time": "2023-01-19T07:53:24.818Z"
   },
   {
    "duration": 265,
    "start_time": "2023-01-19T07:53:34.982Z"
   },
   {
    "duration": 197,
    "start_time": "2023-01-19T07:53:39.913Z"
   },
   {
    "duration": 207,
    "start_time": "2023-01-19T07:54:02.688Z"
   },
   {
    "duration": 25,
    "start_time": "2023-01-19T07:55:31.881Z"
   },
   {
    "duration": 40,
    "start_time": "2023-01-19T07:55:43.681Z"
   },
   {
    "duration": 39,
    "start_time": "2023-01-19T07:56:06.963Z"
   },
   {
    "duration": 19,
    "start_time": "2023-01-19T07:56:38.964Z"
   },
   {
    "duration": 29,
    "start_time": "2023-01-19T07:57:05.170Z"
   },
   {
    "duration": 21,
    "start_time": "2023-01-19T07:57:29.273Z"
   },
   {
    "duration": 19,
    "start_time": "2023-01-19T07:58:14.082Z"
   },
   {
    "duration": 5,
    "start_time": "2023-01-19T07:59:16.921Z"
   },
   {
    "duration": 186,
    "start_time": "2023-01-19T07:59:17.848Z"
   },
   {
    "duration": 165,
    "start_time": "2023-01-19T07:59:21.338Z"
   },
   {
    "duration": 7,
    "start_time": "2023-01-19T07:59:37.113Z"
   },
   {
    "duration": 166,
    "start_time": "2023-01-19T08:01:51.766Z"
   },
   {
    "duration": 168,
    "start_time": "2023-01-19T08:02:01.616Z"
   },
   {
    "duration": 5,
    "start_time": "2023-01-19T08:02:53.409Z"
   },
   {
    "duration": 670,
    "start_time": "2023-01-19T08:02:53.905Z"
   },
   {
    "duration": 4,
    "start_time": "2023-01-19T08:03:05.289Z"
   },
   {
    "duration": 215,
    "start_time": "2023-01-19T08:03:06.729Z"
   },
   {
    "duration": 4,
    "start_time": "2023-01-19T08:03:43.522Z"
   },
   {
    "duration": 169,
    "start_time": "2023-01-19T08:03:44.065Z"
   },
   {
    "duration": 51,
    "start_time": "2023-01-19T08:05:37.097Z"
   },
   {
    "duration": 48,
    "start_time": "2023-01-19T08:05:47.072Z"
   },
   {
    "duration": 57,
    "start_time": "2023-01-19T08:05:55.641Z"
   },
   {
    "duration": 23,
    "start_time": "2023-01-19T08:06:07.297Z"
   },
   {
    "duration": 3,
    "start_time": "2023-01-19T08:06:19.425Z"
   },
   {
    "duration": 4,
    "start_time": "2023-01-19T08:06:29.137Z"
   },
   {
    "duration": 37,
    "start_time": "2023-01-19T08:06:32.481Z"
   },
   {
    "duration": 40,
    "start_time": "2023-01-19T08:06:43.769Z"
   },
   {
    "duration": 37,
    "start_time": "2023-01-19T08:06:52.769Z"
   },
   {
    "duration": 185,
    "start_time": "2023-01-19T08:08:53.545Z"
   },
   {
    "duration": 223,
    "start_time": "2023-01-19T08:09:14.675Z"
   },
   {
    "duration": 59,
    "start_time": "2023-01-19T08:09:27.465Z"
   },
   {
    "duration": 42,
    "start_time": "2023-01-19T08:09:34.737Z"
   },
   {
    "duration": 234,
    "start_time": "2023-01-19T08:10:05.182Z"
   },
   {
    "duration": 178,
    "start_time": "2023-01-19T08:11:59.858Z"
   },
   {
    "duration": 13,
    "start_time": "2023-01-19T08:32:33.872Z"
   },
   {
    "duration": 9,
    "start_time": "2023-01-19T08:49:20.089Z"
   },
   {
    "duration": 12,
    "start_time": "2023-01-19T08:49:27.095Z"
   },
   {
    "duration": 18,
    "start_time": "2023-01-19T08:49:54.600Z"
   },
   {
    "duration": 13,
    "start_time": "2023-01-19T09:00:43.218Z"
   },
   {
    "duration": 18,
    "start_time": "2023-01-19T09:00:44.089Z"
   },
   {
    "duration": 18,
    "start_time": "2023-01-19T09:01:13.786Z"
   },
   {
    "duration": 19,
    "start_time": "2023-01-19T09:01:49.276Z"
   },
   {
    "duration": 4,
    "start_time": "2023-01-19T09:11:08.386Z"
   },
   {
    "duration": 3,
    "start_time": "2023-01-19T09:11:09.099Z"
   },
   {
    "duration": 745,
    "start_time": "2023-01-19T09:11:09.566Z"
   },
   {
    "duration": 698,
    "start_time": "2023-01-19T09:11:10.313Z"
   },
   {
    "duration": 717,
    "start_time": "2023-01-19T09:11:11.013Z"
   },
   {
    "duration": 14,
    "start_time": "2023-01-19T09:11:12.194Z"
   },
   {
    "duration": 25,
    "start_time": "2023-01-19T09:11:15.818Z"
   },
   {
    "duration": 4,
    "start_time": "2023-01-19T09:11:26.115Z"
   },
   {
    "duration": 83,
    "start_time": "2023-01-19T09:11:29.891Z"
   },
   {
    "duration": 10,
    "start_time": "2023-01-19T09:11:35.306Z"
   },
   {
    "duration": 20,
    "start_time": "2023-01-19T09:12:22.411Z"
   },
   {
    "duration": 10,
    "start_time": "2023-01-19T09:12:29.139Z"
   },
   {
    "duration": 5,
    "start_time": "2023-01-19T09:14:37.395Z"
   },
   {
    "duration": 9,
    "start_time": "2023-01-19T09:14:56.546Z"
   },
   {
    "duration": 10,
    "start_time": "2023-01-19T09:16:08.178Z"
   },
   {
    "duration": 11,
    "start_time": "2023-01-19T09:16:30.379Z"
   },
   {
    "duration": 7,
    "start_time": "2023-01-19T09:16:38.468Z"
   },
   {
    "duration": 11,
    "start_time": "2023-01-19T09:16:41.619Z"
   },
   {
    "duration": 22,
    "start_time": "2023-01-19T09:21:22.483Z"
   },
   {
    "duration": 95,
    "start_time": "2023-01-19T09:21:25.771Z"
   },
   {
    "duration": 579,
    "start_time": "2023-01-19T09:21:28.851Z"
   },
   {
    "duration": 599,
    "start_time": "2023-01-19T09:21:42.491Z"
   },
   {
    "duration": 10,
    "start_time": "2023-01-19T09:21:49.580Z"
   },
   {
    "duration": 12,
    "start_time": "2023-01-19T09:22:11.580Z"
   },
   {
    "duration": 1066,
    "start_time": "2023-01-19T09:22:25.410Z"
   },
   {
    "duration": 5,
    "start_time": "2023-01-19T09:22:26.477Z"
   },
   {
    "duration": 825,
    "start_time": "2023-01-19T09:22:26.483Z"
   },
   {
    "duration": 714,
    "start_time": "2023-01-19T09:22:27.310Z"
   },
   {
    "duration": 804,
    "start_time": "2023-01-19T09:22:28.025Z"
   },
   {
    "duration": 15,
    "start_time": "2023-01-19T09:22:28.830Z"
   },
   {
    "duration": 42,
    "start_time": "2023-01-19T09:22:28.846Z"
   },
   {
    "duration": 5,
    "start_time": "2023-01-19T09:22:28.890Z"
   },
   {
    "duration": 72,
    "start_time": "2023-01-19T09:22:28.897Z"
   },
   {
    "duration": 110,
    "start_time": "2023-01-19T09:22:28.972Z"
   },
   {
    "duration": 189,
    "start_time": "2023-01-19T09:22:29.084Z"
   },
   {
    "duration": 199,
    "start_time": "2023-01-19T09:22:29.275Z"
   },
   {
    "duration": 182,
    "start_time": "2023-01-19T09:22:29.476Z"
   },
   {
    "duration": 8,
    "start_time": "2023-01-19T09:22:29.660Z"
   },
   {
    "duration": 14,
    "start_time": "2023-01-19T09:22:29.669Z"
   },
   {
    "duration": 37,
    "start_time": "2023-01-19T09:22:29.685Z"
   },
   {
    "duration": 13,
    "start_time": "2023-01-19T09:22:29.723Z"
   },
   {
    "duration": 20,
    "start_time": "2023-01-19T09:22:29.738Z"
   },
   {
    "duration": 43,
    "start_time": "2023-01-19T09:22:29.760Z"
   },
   {
    "duration": 6,
    "start_time": "2023-01-19T09:22:29.804Z"
   },
   {
    "duration": 613,
    "start_time": "2023-01-19T09:22:29.811Z"
   },
   {
    "duration": 6,
    "start_time": "2023-01-19T09:22:30.426Z"
   },
   {
    "duration": 667,
    "start_time": "2023-01-19T09:24:02.348Z"
   },
   {
    "duration": 741,
    "start_time": "2023-01-19T09:24:03.377Z"
   },
   {
    "duration": 654,
    "start_time": "2023-01-19T09:24:12.938Z"
   },
   {
    "duration": 4,
    "start_time": "2023-01-19T09:30:03.139Z"
   },
   {
    "duration": 27,
    "start_time": "2023-01-19T09:30:03.650Z"
   },
   {
    "duration": 5,
    "start_time": "2023-01-19T09:30:15.553Z"
   },
   {
    "duration": 23,
    "start_time": "2023-01-19T09:30:18.489Z"
   },
   {
    "duration": 23,
    "start_time": "2023-01-19T09:30:24.177Z"
   },
   {
    "duration": 177,
    "start_time": "2023-01-19T09:45:30.410Z"
   },
   {
    "duration": 1161,
    "start_time": "2023-01-19T09:51:58.534Z"
   },
   {
    "duration": 4,
    "start_time": "2023-01-19T09:51:59.697Z"
   },
   {
    "duration": 768,
    "start_time": "2023-01-19T09:51:59.702Z"
   },
   {
    "duration": 746,
    "start_time": "2023-01-19T09:52:00.472Z"
   },
   {
    "duration": 869,
    "start_time": "2023-01-19T09:52:01.220Z"
   },
   {
    "duration": 15,
    "start_time": "2023-01-19T09:52:02.091Z"
   },
   {
    "duration": 48,
    "start_time": "2023-01-19T09:52:02.108Z"
   },
   {
    "duration": 13,
    "start_time": "2023-01-19T09:52:02.158Z"
   },
   {
    "duration": 99,
    "start_time": "2023-01-19T09:52:02.173Z"
   },
   {
    "duration": 105,
    "start_time": "2023-01-19T09:52:02.367Z"
   },
   {
    "duration": 118,
    "start_time": "2023-01-19T09:52:02.474Z"
   },
   {
    "duration": 117,
    "start_time": "2023-01-19T09:52:02.669Z"
   },
   {
    "duration": 180,
    "start_time": "2023-01-19T09:52:02.788Z"
   },
   {
    "duration": 6,
    "start_time": "2023-01-19T09:52:02.970Z"
   },
   {
    "duration": 12,
    "start_time": "2023-01-19T09:52:02.977Z"
   },
   {
    "duration": 43,
    "start_time": "2023-01-19T09:52:02.991Z"
   },
   {
    "duration": 37,
    "start_time": "2023-01-19T09:52:03.036Z"
   },
   {
    "duration": 19,
    "start_time": "2023-01-19T09:52:03.075Z"
   },
   {
    "duration": 52,
    "start_time": "2023-01-19T09:52:03.096Z"
   },
   {
    "duration": 5,
    "start_time": "2023-01-19T09:52:03.150Z"
   },
   {
    "duration": 638,
    "start_time": "2023-01-19T09:52:03.157Z"
   },
   {
    "duration": 619,
    "start_time": "2023-01-19T09:52:03.797Z"
   },
   {
    "duration": 692,
    "start_time": "2023-01-19T09:52:04.418Z"
   },
   {
    "duration": 197,
    "start_time": "2023-01-19T09:52:05.113Z"
   },
   {
    "duration": 1429,
    "start_time": "2023-01-19T13:11:39.609Z"
   },
   {
    "duration": 4,
    "start_time": "2023-01-19T13:11:41.039Z"
   },
   {
    "duration": 1113,
    "start_time": "2023-01-19T13:11:41.045Z"
   },
   {
    "duration": 780,
    "start_time": "2023-01-19T13:11:42.160Z"
   },
   {
    "duration": 827,
    "start_time": "2023-01-19T13:11:42.942Z"
   },
   {
    "duration": 14,
    "start_time": "2023-01-19T13:11:43.770Z"
   },
   {
    "duration": 169,
    "start_time": "2023-01-19T13:11:43.785Z"
   },
   {
    "duration": 4,
    "start_time": "2023-01-19T13:11:43.955Z"
   },
   {
    "duration": 77,
    "start_time": "2023-01-19T13:11:43.960Z"
   },
   {
    "duration": 110,
    "start_time": "2023-01-19T13:11:44.044Z"
   },
   {
    "duration": 183,
    "start_time": "2023-01-19T13:11:44.157Z"
   },
   {
    "duration": 110,
    "start_time": "2023-01-19T13:11:44.345Z"
   },
   {
    "duration": 168,
    "start_time": "2023-01-19T13:11:44.456Z"
   },
   {
    "duration": 11,
    "start_time": "2023-01-19T13:11:44.626Z"
   },
   {
    "duration": 3,
    "start_time": "2023-01-19T13:11:44.639Z"
   },
   {
    "duration": 100,
    "start_time": "2023-01-19T13:11:44.643Z"
   },
   {
    "duration": 0,
    "start_time": "2023-01-19T13:11:44.744Z"
   },
   {
    "duration": 0,
    "start_time": "2023-01-19T13:11:44.745Z"
   },
   {
    "duration": 0,
    "start_time": "2023-01-19T13:11:44.746Z"
   },
   {
    "duration": 0,
    "start_time": "2023-01-19T13:11:44.747Z"
   },
   {
    "duration": 0,
    "start_time": "2023-01-19T13:11:44.748Z"
   },
   {
    "duration": 0,
    "start_time": "2023-01-19T13:11:44.749Z"
   },
   {
    "duration": 0,
    "start_time": "2023-01-19T13:11:44.749Z"
   },
   {
    "duration": 0,
    "start_time": "2023-01-19T13:11:44.751Z"
   },
   {
    "duration": 9,
    "start_time": "2023-01-19T13:12:09.353Z"
   },
   {
    "duration": 3,
    "start_time": "2023-01-19T13:12:29.754Z"
   },
   {
    "duration": 4,
    "start_time": "2023-01-19T13:12:31.057Z"
   },
   {
    "duration": 3,
    "start_time": "2023-01-19T13:12:37.487Z"
   },
   {
    "duration": 33,
    "start_time": "2023-01-19T13:12:39.267Z"
   },
   {
    "duration": 9,
    "start_time": "2023-01-19T13:15:44.961Z"
   },
   {
    "duration": 4,
    "start_time": "2023-01-19T13:16:20.262Z"
   },
   {
    "duration": 570,
    "start_time": "2023-01-19T13:16:21.983Z"
   },
   {
    "duration": 72,
    "start_time": "2023-01-19T13:16:50.061Z"
   },
   {
    "duration": 91,
    "start_time": "2023-01-19T13:17:09.008Z"
   },
   {
    "duration": 71,
    "start_time": "2023-01-19T13:17:25.687Z"
   },
   {
    "duration": 69,
    "start_time": "2023-01-19T13:17:40.979Z"
   },
   {
    "duration": 4,
    "start_time": "2023-01-19T13:17:53.657Z"
   },
   {
    "duration": 545,
    "start_time": "2023-01-19T13:17:56.608Z"
   },
   {
    "duration": 549,
    "start_time": "2023-01-19T13:18:10.858Z"
   },
   {
    "duration": 77,
    "start_time": "2023-01-19T13:18:20.668Z"
   },
   {
    "duration": 4,
    "start_time": "2023-01-19T13:18:24.140Z"
   },
   {
    "duration": 538,
    "start_time": "2023-01-19T13:18:29.879Z"
   },
   {
    "duration": 1243,
    "start_time": "2023-01-19T13:36:24.645Z"
   },
   {
    "duration": 3,
    "start_time": "2023-01-19T13:36:25.890Z"
   },
   {
    "duration": 739,
    "start_time": "2023-01-19T13:36:25.895Z"
   },
   {
    "duration": 678,
    "start_time": "2023-01-19T13:36:26.636Z"
   },
   {
    "duration": 748,
    "start_time": "2023-01-19T13:36:27.316Z"
   },
   {
    "duration": 14,
    "start_time": "2023-01-19T13:36:28.065Z"
   },
   {
    "duration": 53,
    "start_time": "2023-01-19T13:36:28.080Z"
   },
   {
    "duration": 13,
    "start_time": "2023-01-19T13:36:28.134Z"
   },
   {
    "duration": 41,
    "start_time": "2023-01-19T13:36:28.148Z"
   },
   {
    "duration": 154,
    "start_time": "2023-01-19T13:36:28.190Z"
   },
   {
    "duration": 210,
    "start_time": "2023-01-19T13:36:28.346Z"
   },
   {
    "duration": 180,
    "start_time": "2023-01-19T13:36:28.558Z"
   },
   {
    "duration": 174,
    "start_time": "2023-01-19T13:36:28.739Z"
   },
   {
    "duration": 5,
    "start_time": "2023-01-19T13:36:28.915Z"
   },
   {
    "duration": 23,
    "start_time": "2023-01-19T13:36:28.922Z"
   },
   {
    "duration": 24,
    "start_time": "2023-01-19T13:36:28.946Z"
   },
   {
    "duration": 7,
    "start_time": "2023-01-19T13:36:28.971Z"
   },
   {
    "duration": 13,
    "start_time": "2023-01-19T13:36:28.980Z"
   },
   {
    "duration": 62,
    "start_time": "2023-01-19T13:36:28.994Z"
   },
   {
    "duration": 7,
    "start_time": "2023-01-19T13:36:29.058Z"
   },
   {
    "duration": 560,
    "start_time": "2023-01-19T13:36:29.067Z"
   },
   {
    "duration": 551,
    "start_time": "2023-01-19T13:36:29.629Z"
   },
   {
    "duration": 560,
    "start_time": "2023-01-19T13:36:30.182Z"
   },
   {
    "duration": 172,
    "start_time": "2023-01-19T13:36:30.744Z"
   }
  ],
  "kernelspec": {
   "display_name": "Python 3 (ipykernel)",
   "language": "python",
   "name": "python3"
  },
  "language_info": {
   "codemirror_mode": {
    "name": "ipython",
    "version": 3
   },
   "file_extension": ".py",
   "mimetype": "text/x-python",
   "name": "python",
   "nbconvert_exporter": "python",
   "pygments_lexer": "ipython3",
   "version": "3.9.7"
  },
  "toc": {
   "base_numbering": 1,
   "nav_menu": {},
   "number_sections": true,
   "sideBar": true,
   "skip_h1_title": true,
   "title_cell": "Table of Contents",
   "title_sidebar": "Contents",
   "toc_cell": false,
   "toc_position": {
    "height": "757px",
    "left": "34px",
    "top": "273.125px",
    "width": "384px"
   },
   "toc_section_display": true,
   "toc_window_display": true
  },
  "varInspector": {
   "cols": {
    "lenName": 16,
    "lenType": 16,
    "lenVar": 40
   },
   "kernels_config": {
    "python": {
     "delete_cmd_postfix": "",
     "delete_cmd_prefix": "del ",
     "library": "var_list.py",
     "varRefreshCmd": "print(var_dic_list())"
    },
    "r": {
     "delete_cmd_postfix": ") ",
     "delete_cmd_prefix": "rm(",
     "library": "var_list.r",
     "varRefreshCmd": "cat(var_dic_list()) "
    }
   },
   "types_to_exclude": [
    "module",
    "function",
    "builtin_function_or_method",
    "instance",
    "_Feature"
   ],
   "window_display": false
  }
 },
 "nbformat": 4,
 "nbformat_minor": 2
}
